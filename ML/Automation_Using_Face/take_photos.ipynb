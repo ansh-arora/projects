{
 "cells": [
  {
   "cell_type": "code",
   "execution_count": 1,
   "metadata": {},
   "outputs": [
    {
     "ename": "ModuleNotFoundError",
     "evalue": "No module named 'cv2'",
     "output_type": "error",
     "traceback": [
      "\u001b[1;31m---------------------------------------------------------------------------\u001b[0m",
      "\u001b[1;31mModuleNotFoundError\u001b[0m                       Traceback (most recent call last)",
      "\u001b[1;32m<ipython-input-1-4bd35c98e6de>\u001b[0m in \u001b[0;36m<module>\u001b[1;34m()\u001b[0m\n\u001b[1;32m----> 1\u001b[1;33m \u001b[1;32mimport\u001b[0m \u001b[0mcv2\u001b[0m\u001b[1;33m,\u001b[0m\u001b[0mos\u001b[0m\u001b[1;33m\u001b[0m\u001b[0m\n\u001b[0m\u001b[0;32m      2\u001b[0m \u001b[1;33m\u001b[0m\u001b[0m\n\u001b[0;32m      3\u001b[0m \u001b[1;31m#casecading xml file\u001b[0m\u001b[1;33m\u001b[0m\u001b[1;33m\u001b[0m\u001b[0m\n\u001b[0;32m      4\u001b[0m \u001b[0mcascade\u001b[0m\u001b[1;33m=\u001b[0m\u001b[0mcv2\u001b[0m\u001b[1;33m.\u001b[0m\u001b[0mCascadeClassifier\u001b[0m\u001b[1;33m(\u001b[0m\u001b[1;34m\"face.xml\"\u001b[0m\u001b[1;33m)\u001b[0m\u001b[1;33m\u001b[0m\u001b[0m\n\u001b[0;32m      5\u001b[0m \u001b[1;33m\u001b[0m\u001b[0m\n",
      "\u001b[1;31mModuleNotFoundError\u001b[0m: No module named 'cv2'"
     ]
    }
   ],
   "source": [
    "import cv2,os\n",
    "\n",
    "#casecading xml file\n",
    "cascade=cv2.CascadeClassifier(\"face.xml\")\n",
    "\n",
    "#setting up counter\n",
    "counter=0\n",
    "\n",
    "#startiing the camera\n",
    "cam=cv2.VideoCapture(0)\n",
    "\n",
    "#defining directory name where images will be stored\n",
    "dir_name=\"/home/abdul/Desktop/ML/dataset_images\"\n",
    "\n",
    "#using try to avoid error when directory is already present\n",
    "try:\n",
    "    os.mkdir(dir_name)\n",
    "except:\n",
    "    print()\n",
    "    \n",
    "#startin the loop\n",
    "while cam.isOpened():\n",
    "    \n",
    "    #readin the frame\n",
    "    frame=cam.read()[1]\n",
    "    #converting frame to gray\n",
    "    gray_image=cv2.cvtColor(frame,cv2.COLOR_BGR2GRAY)\n",
    "    \n",
    "    #reading and detecting faces in the frame\n",
    "    faces=cascade.detectMultiScale(gray_image,1.3,5)\n",
    "    \n",
    "    for (x,y,w,h) in faces:\n",
    "        #drawing around the face\n",
    "        cv2.rectangle(frame,(x,y),(x+w,y+h),(0,255,0),1)\n",
    "        counter=counter+1\n",
    "        print(counter)\n",
    "        \n",
    "        #saving the face images\n",
    "        cv2.imwrite(dir_name+\"/image\"+str(counter)+\".jpg\",gray_image)\n",
    "    \n",
    "    #showing the frame\n",
    "    cv2.imshow('capturing images',frame)\n",
    "    \n",
    "    #handler\n",
    "    if cv2.waitKey(100) & 0xFF==ord('q'):\n",
    "        break\n",
    "    elif cv2.waitKey(100) & counter==20:\n",
    "        break\n",
    "    \n",
    "#releasing the camera\n",
    "cam.release()\n",
    "#destroying all windows\n",
    "cv2.destroyAllWindows()"
   ]
  }
 ],
 "metadata": {
  "kernelspec": {
   "display_name": "Python 3",
   "language": "python",
   "name": "python3"
  },
  "language_info": {
   "codemirror_mode": {
    "name": "ipython",
    "version": 3
   },
   "file_extension": ".py",
   "mimetype": "text/x-python",
   "name": "python",
   "nbconvert_exporter": "python",
   "pygments_lexer": "ipython3",
   "version": "3.6.4"
  }
 },
 "nbformat": 4,
 "nbformat_minor": 2
}
